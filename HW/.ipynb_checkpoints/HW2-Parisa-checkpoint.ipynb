{
 "cells": [
  {
   "cell_type": "code",
   "execution_count": 74,
   "metadata": {
    "collapsed": true
   },
   "outputs": [],
   "source": [
    "#import cvs library\n",
    "import csv\n",
    "\n"
   ]
  },
  {
   "cell_type": "code",
   "execution_count": 75,
   "metadata": {
    "collapsed": false
   },
   "outputs": [
    {
     "name": "stdout",
     "output_type": "stream",
     "text": [
      "[['sepal_length', 'sepal_width', 'petal_length', 'petal_width', 'species'], ['5.1', '3.5', '1.4', '0.2', 'setosa'], ['4.9', '3', '1.4', '0.2', 'setosa'], ['4.7', '3.2', '1.3', '0.2', 'setosa'], ['4.6', '3.1', '1.5', '0.2', 'setosa'], ['5', '3.6', '1.4', '0.2', 'setosa'], ['5.4', '3.9', '1.7', '0.4', 'setosa'], ['4.6', '3.4', '1.4', '0.3', 'setosa'], ['5', '3.4', '1.5', '0.2', 'setosa'], ['4.4', '2.9', '1.4', '0.2', 'setosa'], ['4.9', '3.1', '1.5', '0.1', 'setosa'], ['5.4', '3.7', '1.5', '0.2', 'setosa'], ['4.8', '3.4', '1.6', '0.2', 'setosa'], ['4.8', '3', '1.4', '0.1', 'setosa'], ['4.3', '3', '1.1', '0.1', 'setosa'], ['5.8', '4', '1.2', '0.2', 'setosa'], ['5.7', '4.4', '1.5', '0.4', 'setosa'], ['5.4', '3.9', '1.3', '0.4', 'setosa'], ['5.1', '3.5', '1.4', '0.3', 'setosa'], ['5.7', '3.8', '1.7', '0.3', 'setosa'], ['5.1', '3.8', '1.5', '0.3', 'setosa'], ['5.4', '3.4', '1.7', '0.2', 'setosa'], ['5.1', '3.7', '1.5', '0.4', 'setosa'], ['4.6', '3.6', '1', '0.2', 'setosa'], ['5.1', '3.3', '1.7', '0.5', 'setosa'], ['4.8', '3.4', '1.9', '0.2', 'setosa'], ['5', '3', '1.6', '0.2', 'setosa'], ['5', '3.4', '1.6', '0.4', 'setosa'], ['5.2', '3.5', '1.5', '0.2', 'setosa'], ['5.2', '3.4', '1.4', '0.2', 'setosa'], ['4.7', '3.2', '1.6', '0.2', 'setosa'], ['4.8', '3.1', '1.6', '0.2', 'setosa'], ['5.4', '3.4', '1.5', '0.4', 'setosa'], ['5.2', '4.1', '1.5', '0.1', 'setosa'], ['5.5', '4.2', '1.4', '0.2', 'setosa'], ['4.9', '3.1', '1.5', '0.1', 'setosa'], ['5', '3.2', '1.2', '0.2', 'setosa'], ['5.5', '3.5', '1.3', '0.2', 'setosa'], ['4.9', '3.1', '1.5', '0.1', 'setosa'], ['4.4', '3', '1.3', '0.2', 'setosa'], ['5.1', '3.4', '1.5', '0.2', 'setosa'], ['5', '3.5', '1.3', '0.3', 'setosa'], ['4.5', '2.3', '1.3', '0.3', 'setosa'], ['4.4', '3.2', '1.3', '0.2', 'setosa'], ['5', '3.5', '1.6', '0.6', 'setosa'], ['5.1', '3.8', '1.9', '0.4', 'setosa'], ['4.8', '3', '1.4', '0.3', 'setosa'], ['5.1', '3.8', '1.6', '0.2', 'setosa'], ['4.6', '3.2', '1.4', '0.2', 'setosa'], ['5.3', '3.7', '1.5', '0.2', 'setosa'], ['5', '3.3', '1.4', '0.2', 'setosa'], ['7', '3.2', '4.7', '1.4', 'versicolor'], ['6.4', '3.2', '4.5', '1.5', 'versicolor'], ['6.9', '3.1', '4.9', '1.5', 'versicolor'], ['5.5', '2.3', '4', '1.3', 'versicolor'], ['6.5', '2.8', '4.6', '1.5', 'versicolor'], ['5.7', '2.8', '4.5', '1.3', 'versicolor'], ['6.3', '3.3', '4.7', '1.6', 'versicolor'], ['4.9', '2.4', '3.3', '1', 'versicolor'], ['6.6', '2.9', '4.6', '1.3', 'versicolor'], ['5.2', '2.7', '3.9', '1.4', 'versicolor'], ['5', '2', '3.5', '1', 'versicolor'], ['5.9', '3', '4.2', '1.5', 'versicolor'], ['6', '2.2', '4', '1', 'versicolor'], ['6.1', '2.9', '4.7', '1.4', 'versicolor'], ['5.6', '2.9', '3.6', '1.3', 'versicolor'], ['6.7', '3.1', '4.4', '1.4', 'versicolor'], ['5.6', '3', '4.5', '1.5', 'versicolor'], ['5.8', '2.7', '4.1', '1', 'versicolor'], ['6.2', '2.2', '4.5', '1.5', 'versicolor'], ['5.6', '2.5', '3.9', '1.1', 'versicolor'], ['5.9', '3.2', '4.8', '1.8', 'versicolor'], ['6.1', '2.8', '4', '1.3', 'versicolor'], ['6.3', '2.5', '4.9', '1.5', 'versicolor'], ['6.1', '2.8', '4.7', '1.2', 'versicolor'], ['6.4', '2.9', '4.3', '1.3', 'versicolor'], ['6.6', '3', '4.4', '1.4', 'versicolor'], ['6.8', '2.8', '4.8', '1.4', 'versicolor'], ['6.7', '3', '5', '1.7', 'versicolor'], ['6', '2.9', '4.5', '1.5', 'versicolor'], ['5.7', '2.6', '3.5', '1', 'versicolor'], ['5.5', '2.4', '3.8', '1.1', 'versicolor'], ['5.5', '2.4', '3.7', '1', 'versicolor'], ['5.8', '2.7', '3.9', '1.2', 'versicolor'], ['6', '2.7', '5.1', '1.6', 'versicolor'], ['5.4', '3', '4.5', '1.5', 'versicolor'], ['6', '3.4', '4.5', '1.6', 'versicolor'], ['6.7', '3.1', '4.7', '1.5', 'versicolor'], ['6.3', '2.3', '4.4', '1.3', 'versicolor'], ['5.6', '3', '4.1', '1.3', 'versicolor'], ['5.5', '2.5', '4', '1.3', 'versicolor'], ['5.5', '2.6', '4.4', '1.2', 'versicolor'], ['6.1', '3', '4.6', '1.4', 'versicolor'], ['5.8', '2.6', '4', '1.2', 'versicolor'], ['5', '2.3', '3.3', '1', 'versicolor'], ['5.6', '2.7', '4.2', '1.3', 'versicolor'], ['5.7', '3', '4.2', '1.2', 'versicolor'], ['5.7', '2.9', '4.2', '1.3', 'versicolor'], ['6.2', '2.9', '4.3', '1.3', 'versicolor'], ['5.1', '2.5', '3', '1.1', 'versicolor'], ['5.7', '2.8', '4.1', '1.3', 'versicolor'], ['6.3', '3.3', '6', '2.5', 'virginica'], ['5.8', '2.7', '5.1', '1.9', 'virginica'], ['7.1', '3', '5.9', '2.1', 'virginica'], ['6.3', '2.9', '5.6', '1.8', 'virginica'], ['6.5', '3', '5.8', '2.2', 'virginica'], ['7.6', '3', '6.6', '2.1', 'virginica'], ['4.9', '2.5', '4.5', '1.7', 'virginica'], ['7.3', '2.9', '6.3', '1.8', 'virginica'], ['6.7', '2.5', '5.8', '1.8', 'virginica'], ['7.2', '3.6', '6.1', '2.5', 'virginica'], ['6.5', '3.2', '5.1', '2', 'virginica'], ['6.4', '2.7', '5.3', '1.9', 'virginica'], ['6.8', '3', '5.5', '2.1', 'virginica'], ['5.7', '2.5', '5', '2', 'virginica'], ['5.8', '2.8', '5.1', '2.4', 'virginica'], ['6.4', '3.2', '5.3', '2.3', 'virginica'], ['6.5', '3', '5.5', '1.8', 'virginica'], ['7.7', '3.8', '6.7', '2.2', 'virginica'], ['7.7', '2.6', '6.9', '2.3', 'virginica'], ['6', '2.2', '5', '1.5', 'virginica'], ['6.9', '3.2', '5.7', '2.3', 'virginica'], ['5.6', '2.8', '4.9', '2', 'virginica'], ['7.7', '2.8', '6.7', '2', 'virginica'], ['6.3', '2.7', '4.9', '1.8', 'virginica'], ['6.7', '3.3', '5.7', '2.1', 'virginica'], ['7.2', '3.2', '6', '1.8', 'virginica'], ['6.2', '2.8', '4.8', '1.8', 'virginica'], ['6.1', '3', '4.9', '1.8', 'virginica'], ['6.4', '2.8', '5.6', '2.1', 'virginica'], ['7.2', '3', '5.8', '1.6', 'virginica'], ['7.4', '2.8', '6.1', '1.9', 'virginica'], ['7.9', '3.8', '6.4', '2', 'virginica'], ['6.4', '2.8', '5.6', '2.2', 'virginica'], ['6.3', '2.8', '5.1', '1.5', 'virginica'], ['6.1', '2.6', '5.6', '1.4', 'virginica'], ['7.7', '3', '6.1', '2.3', 'virginica'], ['6.3', '3.4', '5.6', '2.4', 'virginica'], ['6.4', '3.1', '5.5', '1.8', 'virginica'], ['6', '3', '4.8', '1.8', 'virginica'], ['6.9', '3.1', '5.4', '2.1', 'virginica'], ['6.7', '3.1', '5.6', '2.4', 'virginica'], ['6.9', '3.1', '5.1', '2.3', 'virginica'], ['5.8', '2.7', '5.1', '1.9', 'virginica'], ['6.8', '3.2', '5.9', '2.3', 'virginica'], ['6.7', '3.3', '5.7', '2.5', 'virginica'], ['6.7', '3', '5.2', '2.3', 'virginica'], ['6.3', '2.5', '5', '1.9', 'virginica'], ['6.5', '3', '5.2', '2', 'virginica'], ['6.2', '3.4', '5.4', '2.3', 'virginica'], ['5.9', '3', '5.1', '1.8', 'virginica']]\n"
     ]
    }
   ],
   "source": [
    "#Read in the iris dataset and produce list of list titled \"dataset\"\n",
    "with open('iris.csv', 'rU') as f:\n",
    "    reader = csv.reader(f)\n",
    "    dataset = []\n",
    "    for row in reader:\n",
    "        dataset.append(row)\n",
    "        \n",
    "print(dataset)\n"
   ]
  },
  {
   "cell_type": "code",
   "execution_count": 78,
   "metadata": {
    "collapsed": false
   },
   "outputs": [
    {
     "name": "stdout",
     "output_type": "stream",
     "text": [
      "[['5.1', '3.5', '1.4', '0.2', 'setosa'], ['4.9', '3', '1.4', '0.2', 'setosa'], ['4.7', '3.2', '1.3', '0.2', 'setosa'], ['4.6', '3.1', '1.5', '0.2', 'setosa'], ['5', '3.6', '1.4', '0.2', 'setosa'], ['5.4', '3.9', '1.7', '0.4', 'setosa'], ['4.6', '3.4', '1.4', '0.3', 'setosa'], ['5', '3.4', '1.5', '0.2', 'setosa'], ['4.4', '2.9', '1.4', '0.2', 'setosa'], ['4.9', '3.1', '1.5', '0.1', 'setosa'], ['5.4', '3.7', '1.5', '0.2', 'setosa'], ['4.8', '3.4', '1.6', '0.2', 'setosa'], ['4.8', '3', '1.4', '0.1', 'setosa'], ['4.3', '3', '1.1', '0.1', 'setosa'], ['5.8', '4', '1.2', '0.2', 'setosa'], ['5.7', '4.4', '1.5', '0.4', 'setosa'], ['5.4', '3.9', '1.3', '0.4', 'setosa'], ['5.1', '3.5', '1.4', '0.3', 'setosa'], ['5.7', '3.8', '1.7', '0.3', 'setosa'], ['5.1', '3.8', '1.5', '0.3', 'setosa'], ['5.4', '3.4', '1.7', '0.2', 'setosa'], ['5.1', '3.7', '1.5', '0.4', 'setosa'], ['4.6', '3.6', '1', '0.2', 'setosa'], ['5.1', '3.3', '1.7', '0.5', 'setosa'], ['4.8', '3.4', '1.9', '0.2', 'setosa'], ['5', '3', '1.6', '0.2', 'setosa'], ['5', '3.4', '1.6', '0.4', 'setosa'], ['5.2', '3.5', '1.5', '0.2', 'setosa'], ['5.2', '3.4', '1.4', '0.2', 'setosa'], ['4.7', '3.2', '1.6', '0.2', 'setosa'], ['4.8', '3.1', '1.6', '0.2', 'setosa'], ['5.4', '3.4', '1.5', '0.4', 'setosa'], ['5.2', '4.1', '1.5', '0.1', 'setosa'], ['5.5', '4.2', '1.4', '0.2', 'setosa'], ['4.9', '3.1', '1.5', '0.1', 'setosa'], ['5', '3.2', '1.2', '0.2', 'setosa'], ['5.5', '3.5', '1.3', '0.2', 'setosa'], ['4.9', '3.1', '1.5', '0.1', 'setosa'], ['4.4', '3', '1.3', '0.2', 'setosa'], ['5.1', '3.4', '1.5', '0.2', 'setosa'], ['5', '3.5', '1.3', '0.3', 'setosa'], ['4.5', '2.3', '1.3', '0.3', 'setosa'], ['4.4', '3.2', '1.3', '0.2', 'setosa'], ['5', '3.5', '1.6', '0.6', 'setosa'], ['5.1', '3.8', '1.9', '0.4', 'setosa'], ['4.8', '3', '1.4', '0.3', 'setosa'], ['5.1', '3.8', '1.6', '0.2', 'setosa'], ['4.6', '3.2', '1.4', '0.2', 'setosa'], ['5.3', '3.7', '1.5', '0.2', 'setosa'], ['5', '3.3', '1.4', '0.2', 'setosa'], ['7', '3.2', '4.7', '1.4', 'versicolor'], ['6.4', '3.2', '4.5', '1.5', 'versicolor'], ['6.9', '3.1', '4.9', '1.5', 'versicolor'], ['5.5', '2.3', '4', '1.3', 'versicolor'], ['6.5', '2.8', '4.6', '1.5', 'versicolor'], ['5.7', '2.8', '4.5', '1.3', 'versicolor'], ['6.3', '3.3', '4.7', '1.6', 'versicolor'], ['4.9', '2.4', '3.3', '1', 'versicolor'], ['6.6', '2.9', '4.6', '1.3', 'versicolor'], ['5.2', '2.7', '3.9', '1.4', 'versicolor'], ['5', '2', '3.5', '1', 'versicolor'], ['5.9', '3', '4.2', '1.5', 'versicolor'], ['6', '2.2', '4', '1', 'versicolor'], ['6.1', '2.9', '4.7', '1.4', 'versicolor'], ['5.6', '2.9', '3.6', '1.3', 'versicolor'], ['6.7', '3.1', '4.4', '1.4', 'versicolor'], ['5.6', '3', '4.5', '1.5', 'versicolor'], ['5.8', '2.7', '4.1', '1', 'versicolor'], ['6.2', '2.2', '4.5', '1.5', 'versicolor'], ['5.6', '2.5', '3.9', '1.1', 'versicolor'], ['5.9', '3.2', '4.8', '1.8', 'versicolor'], ['6.1', '2.8', '4', '1.3', 'versicolor'], ['6.3', '2.5', '4.9', '1.5', 'versicolor'], ['6.1', '2.8', '4.7', '1.2', 'versicolor'], ['6.4', '2.9', '4.3', '1.3', 'versicolor'], ['6.6', '3', '4.4', '1.4', 'versicolor'], ['6.8', '2.8', '4.8', '1.4', 'versicolor'], ['6.7', '3', '5', '1.7', 'versicolor'], ['6', '2.9', '4.5', '1.5', 'versicolor'], ['5.7', '2.6', '3.5', '1', 'versicolor'], ['5.5', '2.4', '3.8', '1.1', 'versicolor'], ['5.5', '2.4', '3.7', '1', 'versicolor'], ['5.8', '2.7', '3.9', '1.2', 'versicolor'], ['6', '2.7', '5.1', '1.6', 'versicolor'], ['5.4', '3', '4.5', '1.5', 'versicolor'], ['6', '3.4', '4.5', '1.6', 'versicolor'], ['6.7', '3.1', '4.7', '1.5', 'versicolor'], ['6.3', '2.3', '4.4', '1.3', 'versicolor'], ['5.6', '3', '4.1', '1.3', 'versicolor'], ['5.5', '2.5', '4', '1.3', 'versicolor'], ['5.5', '2.6', '4.4', '1.2', 'versicolor'], ['6.1', '3', '4.6', '1.4', 'versicolor'], ['5.8', '2.6', '4', '1.2', 'versicolor'], ['5', '2.3', '3.3', '1', 'versicolor'], ['5.6', '2.7', '4.2', '1.3', 'versicolor'], ['5.7', '3', '4.2', '1.2', 'versicolor'], ['5.7', '2.9', '4.2', '1.3', 'versicolor'], ['6.2', '2.9', '4.3', '1.3', 'versicolor'], ['5.1', '2.5', '3', '1.1', 'versicolor'], ['5.7', '2.8', '4.1', '1.3', 'versicolor'], ['6.3', '3.3', '6', '2.5', 'virginica'], ['5.8', '2.7', '5.1', '1.9', 'virginica'], ['7.1', '3', '5.9', '2.1', 'virginica'], ['6.3', '2.9', '5.6', '1.8', 'virginica'], ['6.5', '3', '5.8', '2.2', 'virginica'], ['7.6', '3', '6.6', '2.1', 'virginica'], ['4.9', '2.5', '4.5', '1.7', 'virginica'], ['7.3', '2.9', '6.3', '1.8', 'virginica'], ['6.7', '2.5', '5.8', '1.8', 'virginica'], ['7.2', '3.6', '6.1', '2.5', 'virginica'], ['6.5', '3.2', '5.1', '2', 'virginica'], ['6.4', '2.7', '5.3', '1.9', 'virginica'], ['6.8', '3', '5.5', '2.1', 'virginica'], ['5.7', '2.5', '5', '2', 'virginica'], ['5.8', '2.8', '5.1', '2.4', 'virginica'], ['6.4', '3.2', '5.3', '2.3', 'virginica'], ['6.5', '3', '5.5', '1.8', 'virginica'], ['7.7', '3.8', '6.7', '2.2', 'virginica'], ['7.7', '2.6', '6.9', '2.3', 'virginica'], ['6', '2.2', '5', '1.5', 'virginica'], ['6.9', '3.2', '5.7', '2.3', 'virginica'], ['5.6', '2.8', '4.9', '2', 'virginica'], ['7.7', '2.8', '6.7', '2', 'virginica'], ['6.3', '2.7', '4.9', '1.8', 'virginica'], ['6.7', '3.3', '5.7', '2.1', 'virginica'], ['7.2', '3.2', '6', '1.8', 'virginica'], ['6.2', '2.8', '4.8', '1.8', 'virginica'], ['6.1', '3', '4.9', '1.8', 'virginica'], ['6.4', '2.8', '5.6', '2.1', 'virginica'], ['7.2', '3', '5.8', '1.6', 'virginica'], ['7.4', '2.8', '6.1', '1.9', 'virginica'], ['7.9', '3.8', '6.4', '2', 'virginica'], ['6.4', '2.8', '5.6', '2.2', 'virginica'], ['6.3', '2.8', '5.1', '1.5', 'virginica'], ['6.1', '2.6', '5.6', '1.4', 'virginica'], ['7.7', '3', '6.1', '2.3', 'virginica'], ['6.3', '3.4', '5.6', '2.4', 'virginica'], ['6.4', '3.1', '5.5', '1.8', 'virginica'], ['6', '3', '4.8', '1.8', 'virginica'], ['6.9', '3.1', '5.4', '2.1', 'virginica'], ['6.7', '3.1', '5.6', '2.4', 'virginica'], ['6.9', '3.1', '5.1', '2.3', 'virginica'], ['5.8', '2.7', '5.1', '1.9', 'virginica'], ['6.8', '3.2', '5.9', '2.3', 'virginica'], ['6.7', '3.3', '5.7', '2.5', 'virginica'], ['6.7', '3', '5.2', '2.3', 'virginica'], ['6.3', '2.5', '5', '1.9', 'virginica'], ['6.5', '3', '5.2', '2', 'virginica'], ['6.2', '3.4', '5.4', '2.3', 'virginica'], ['5.9', '3', '5.1', '1.8', 'virginica']]\n",
      "150\n",
      "151\n"
     ]
    }
   ],
   "source": [
    "# createa new list titled dataset_new by eliminating the first row of the dataset list.\n",
    "dataset_new = []\n",
    "for ii in range(len(dataset)-1):\n",
    "    dataset_new.append(dataset[ii+1])\n",
    "print(dataset_new)\n",
    "\n",
    "print(len(dataset_new))\n",
    "print(len(dataset))\n"
   ]
  },
  {
   "cell_type": "code",
   "execution_count": 87,
   "metadata": {
    "collapsed": false
   },
   "outputs": [
    {
     "name": "stdout",
     "output_type": "stream",
     "text": [
      "('the number of observations =', 150)\n"
     ]
    }
   ],
   "source": [
    "# the number of observations in dataset_new\n",
    "the_number_of_observations=len(dataset_new)\n",
    "print('the number of observations =', the_number_of_observations)\n",
    "\n"
   ]
  },
  {
   "cell_type": "code",
   "execution_count": 89,
   "metadata": {
    "collapsed": false
   },
   "outputs": [
    {
     "name": "stdout",
     "output_type": "stream",
     "text": [
      "('species =', 'setosa')\n"
     ]
    }
   ],
   "source": [
    "\n",
    "#species is in row four of dataset_new\n",
    "\n",
    "species = dataset_new[3][4]\n",
    "print('species =', species)\n",
    "\n"
   ]
  },
  {
   "cell_type": "code",
   "execution_count": 94,
   "metadata": {
    "collapsed": false
   },
   "outputs": [
    {
     "name": "stdout",
     "output_type": "stream",
     "text": [
      "('avarage =', 5.843333333333335)\n",
      "150\n"
     ]
    }
   ],
   "source": [
    "#the average sepal length in the dataset_new\n",
    "count = 0\n",
    "list_sepal_lenght= []\n",
    "for ii in range(len(dataset_new)):\n",
    "    count=count+float(dataset_new[ii][0])\n",
    "    list_sepal_lenght.append(dataset_new[ii][0])\n",
    "    #print(list_sepal_lenght)\n",
    "    \n",
    "avarage = count / len(list_sepal_lenght)\n",
    "print('avarage =',avarage)\n",
    "print(len(list_sepal_lenght))\n",
    "    "
   ]
  },
  {
   "cell_type": "code",
   "execution_count": 98,
   "metadata": {
    "collapsed": false
   },
   "outputs": [
    {
     "name": "stdout",
     "output_type": "stream",
     "text": [
      "('average sepal length of setosa flowers:', 5.005999999999999)\n"
     ]
    }
   ],
   "source": [
    "# the average sepal length of setosa flowers\n",
    "count = 0\n",
    "number = 0\n",
    "for ii in range(len(dataset_new)):\n",
    "    if dataset_new[ii][4] == 'setosa':\n",
    "        count = count +float(dataset_new[ii][0])\n",
    "        number = number+1\n",
    "avarage = count/number        \n",
    "print('average sepal length of setosa flowers:', avarage)\n",
    "         \n",
    "\n"
   ]
  },
  {
   "cell_type": "code",
   "execution_count": 96,
   "metadata": {
    "collapsed": false
   },
   "outputs": [
    {
     "name": "stdout",
     "output_type": "stream",
     "text": [
      "('avarage_setosa:', 5.005999999999999)\n",
      "('avarage_versicolor: ', 5.936)\n",
      "('avarage_virginica: ', 6.587999999999998)\n"
     ]
    }
   ],
   "source": [
    "#Calculate the average sepal length of flowers of any given species\n",
    "categories = ['setosa', 'versicolor' ,'virginica' ]\n",
    "\n",
    "count1= 0\n",
    "number1 = 0\n",
    "\n",
    "count2 =0\n",
    "number2 =0\n",
    "\n",
    "count3=0\n",
    "number3=0\n",
    "\n",
    "for ii in range(len(dataset_new)):\n",
    "    if dataset_new[ii][4] == categories [0]:\n",
    "        count1 = count1 +float(dataset_new[ii][0])\n",
    "        number1 = number1+1\n",
    "    elif dataset_new[ii][4] ==categories [1]: \n",
    "        count2 = count2 +float(dataset_new[ii][0])\n",
    "        number2 = number2+1\n",
    "    else:\n",
    "        count3 = count3 +float(dataset_new[ii][0])\n",
    "        number3 = number3+1\n",
    "        \n",
    "avarage_setosa = count1/number1        \n",
    "print('avarage_setosa:',avarage_setosa)\n",
    "avarage_versicolor = count2/number2        \n",
    "print('avarage_versicolor: ',avarage_versicolor)\n",
    "avarage_virginica = count3/number3 \n",
    "print('avarage_virginica: ',avarage_virginica)\n",
    "\n",
    "\n",
    "\n"
   ]
  }
 ],
 "metadata": {
  "anaconda-cloud": {},
  "kernelspec": {
   "display_name": "Python 2",
   "language": "python",
   "name": "python2"
  },
  "language_info": {
   "codemirror_mode": {
    "name": "ipython",
    "version": 2
   },
   "file_extension": ".py",
   "mimetype": "text/x-python",
   "name": "python",
   "nbconvert_exporter": "python",
   "pygments_lexer": "ipython2",
   "version": "2.7.12"
  }
 },
 "nbformat": 4,
 "nbformat_minor": 1
}
